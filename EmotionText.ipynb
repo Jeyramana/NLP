{
 "cells": [
  {
   "cell_type": "markdown",
   "metadata": {},
   "source": [
    "# Import"
   ]
  },
  {
   "cell_type": "code",
   "execution_count": 1,
   "metadata": {},
   "outputs": [],
   "source": [
    "import numpy as np\n",
    "import pandas as pd"
   ]
  },
  {
   "cell_type": "code",
   "execution_count": 20,
   "metadata": {},
   "outputs": [],
   "source": [
    "# Text Preprocessing\n",
    "import string #\n",
    "import re # Regular Expression\n",
    "import pprint # Pretty Print for long texts\n",
    "import nltk\n",
    "from nltk.corpus import stopwords\n",
    "from wordcloud import WordCloud"
   ]
  },
  {
   "cell_type": "code",
   "execution_count": null,
   "metadata": {},
   "outputs": [],
   "source": [
    "# Feature Engineering"
   ]
  },
  {
   "cell_type": "code",
   "execution_count": 3,
   "metadata": {},
   "outputs": [],
   "source": [
    "# Visual\n",
    "import matplotlib.pyplot as plt\n",
    "import seaborn as sns"
   ]
  },
  {
   "cell_type": "code",
   "execution_count": 4,
   "metadata": {},
   "outputs": [],
   "source": [
    "# File system\n",
    "import os\n",
    "# Warning\n",
    "import warnings\n",
    "warnings.filterwarnings('ignore')"
   ]
  },
  {
   "cell_type": "markdown",
   "metadata": {},
   "source": [
    "# Read Data"
   ]
  },
  {
   "cell_type": "code",
   "execution_count": 22,
   "metadata": {},
   "outputs": [
    {
     "data": {
      "text/html": [
       "<div>\n",
       "<style scoped>\n",
       "    .dataframe tbody tr th:only-of-type {\n",
       "        vertical-align: middle;\n",
       "    }\n",
       "\n",
       "    .dataframe tbody tr th {\n",
       "        vertical-align: top;\n",
       "    }\n",
       "\n",
       "    .dataframe thead th {\n",
       "        text-align: right;\n",
       "    }\n",
       "</style>\n",
       "<table border=\"1\" class=\"dataframe\">\n",
       "  <thead>\n",
       "    <tr style=\"text-align: right;\">\n",
       "      <th></th>\n",
       "      <th>tweet_id</th>\n",
       "      <th>sentiment</th>\n",
       "      <th>author</th>\n",
       "      <th>content</th>\n",
       "    </tr>\n",
       "  </thead>\n",
       "  <tbody>\n",
       "    <tr>\n",
       "      <th>0</th>\n",
       "      <td>1956967341</td>\n",
       "      <td>empty</td>\n",
       "      <td>xoshayzers</td>\n",
       "      <td>@tiffanylue i know  i was listenin to bad habi...</td>\n",
       "    </tr>\n",
       "    <tr>\n",
       "      <th>1</th>\n",
       "      <td>1956967666</td>\n",
       "      <td>sadness</td>\n",
       "      <td>wannamama</td>\n",
       "      <td>Layin n bed with a headache  ughhhh...waitin o...</td>\n",
       "    </tr>\n",
       "    <tr>\n",
       "      <th>2</th>\n",
       "      <td>1956967696</td>\n",
       "      <td>sadness</td>\n",
       "      <td>coolfunky</td>\n",
       "      <td>Funeral ceremony...gloomy friday...</td>\n",
       "    </tr>\n",
       "    <tr>\n",
       "      <th>3</th>\n",
       "      <td>1956967789</td>\n",
       "      <td>enthusiasm</td>\n",
       "      <td>czareaquino</td>\n",
       "      <td>wants to hang out with friends SOON!</td>\n",
       "    </tr>\n",
       "    <tr>\n",
       "      <th>4</th>\n",
       "      <td>1956968416</td>\n",
       "      <td>neutral</td>\n",
       "      <td>xkilljoyx</td>\n",
       "      <td>@dannycastillo We want to trade with someone w...</td>\n",
       "    </tr>\n",
       "  </tbody>\n",
       "</table>\n",
       "</div>"
      ],
      "text/plain": [
       "     tweet_id   sentiment       author  \\\n",
       "0  1956967341       empty   xoshayzers   \n",
       "1  1956967666     sadness    wannamama   \n",
       "2  1956967696     sadness    coolfunky   \n",
       "3  1956967789  enthusiasm  czareaquino   \n",
       "4  1956968416     neutral    xkilljoyx   \n",
       "\n",
       "                                             content  \n",
       "0  @tiffanylue i know  i was listenin to bad habi...  \n",
       "1  Layin n bed with a headache  ughhhh...waitin o...  \n",
       "2                Funeral ceremony...gloomy friday...  \n",
       "3               wants to hang out with friends SOON!  \n",
       "4  @dannycastillo We want to trade with someone w...  "
      ]
     },
     "execution_count": 22,
     "metadata": {},
     "output_type": "execute_result"
    }
   ],
   "source": [
    "data = pd.read_csv('CSV_file/text_emotion.csv')\n",
    "data.head()"
   ]
  },
  {
   "cell_type": "markdown",
   "metadata": {},
   "source": [
    "# Exploratory Data Analysis"
   ]
  },
  {
   "cell_type": "markdown",
   "metadata": {},
   "source": [
    "## No. of Rows"
   ]
  },
  {
   "cell_type": "code",
   "execution_count": 8,
   "metadata": {},
   "outputs": [
    {
     "data": {
      "text/plain": [
       "(40000, 4)"
      ]
     },
     "execution_count": 8,
     "metadata": {},
     "output_type": "execute_result"
    }
   ],
   "source": [
    "data.shape"
   ]
  },
  {
   "cell_type": "markdown",
   "metadata": {},
   "source": [
    "## Data Type"
   ]
  },
  {
   "cell_type": "code",
   "execution_count": 10,
   "metadata": {},
   "outputs": [
    {
     "data": {
      "text/plain": [
       "tweet_id      int64\n",
       "sentiment    object\n",
       "author       object\n",
       "content      object\n",
       "dtype: object"
      ]
     },
     "execution_count": 10,
     "metadata": {},
     "output_type": "execute_result"
    }
   ],
   "source": [
    "# data type\n",
    "data.dtypes"
   ]
  },
  {
   "cell_type": "markdown",
   "metadata": {},
   "source": [
    "## Missing data"
   ]
  },
  {
   "cell_type": "code",
   "execution_count": 11,
   "metadata": {},
   "outputs": [
    {
     "data": {
      "text/plain": [
       "tweet_id     0\n",
       "sentiment    0\n",
       "author       0\n",
       "content      0\n",
       "dtype: int64"
      ]
     },
     "execution_count": 11,
     "metadata": {},
     "output_type": "execute_result"
    }
   ],
   "source": [
    "data.isnull().sum()"
   ]
  },
  {
   "cell_type": "markdown",
   "metadata": {},
   "source": [
    "## Keyword"
   ]
  },
  {
   "cell_type": "code",
   "execution_count": 14,
   "metadata": {},
   "outputs": [
    {
     "data": {
      "text/plain": [
       "neutral       8638\n",
       "worry         8459\n",
       "happiness     5209\n",
       "sadness       5165\n",
       "love          3842\n",
       "surprise      2187\n",
       "fun           1776\n",
       "relief        1526\n",
       "hate          1323\n",
       "empty          827\n",
       "enthusiasm     759\n",
       "boredom        179\n",
       "anger          110\n",
       "Name: sentiment, dtype: int64"
      ]
     },
     "execution_count": 14,
     "metadata": {},
     "output_type": "execute_result"
    }
   ],
   "source": [
    "data['sentiment'].value_counts()"
   ]
  },
  {
   "cell_type": "code",
   "execution_count": null,
   "metadata": {},
   "outputs": [],
   "source": [
    "data['sentiment'].value_counts().plot(kind='bar')"
   ]
  },
  {
   "cell_type": "code",
   "execution_count": 19,
   "metadata": {},
   "outputs": [
    {
     "data": {
      "text/plain": [
       "<AxesSubplot:xlabel='sentiment'>"
      ]
     },
     "execution_count": 19,
     "metadata": {},
     "output_type": "execute_result"
    },
    {
     "data": {
      "image/png": "[encoded data removed]",
      "text/plain": [
       "<Figure size 432x288 with 1 Axes>"
      ]
     },
     "metadata": {
      "needs_background": "light"
     },
     "output_type": "display_data"
    }
   ],
   "source": [
    "# frequency of sentiment terms\n",
    "sns.barplot(y=data['sentiment'].value_counts().index, x=data['sentiment'].value_counts())"
   ]
  },
  {
   "cell_type": "markdown",
   "metadata": {},
   "source": [
    "# Text Data Pre-Processing"
   ]
  },
  {
   "cell_type": "code",
   "execution_count": 23,
   "metadata": {},
   "outputs": [],
   "source": [
    "def clean_text(text):\n",
    "    '''Make text lowercase, remove text in square brackets,remove links,remove punctuation\n",
    "    and remove words containing numbers.'''\n",
    "    text = text.lower()\n",
    "    text = re.sub('\\[.*?\\]', '', text)\n",
    "    text = re.sub('https?://\\S+|www\\.\\S+', '', text)\n",
    "    text = re.sub('<.*?>+', '', text)\n",
    "    text = re.sub('[%s]' % re.escape(string.punctuation), '', text)\n",
    "    text = re.sub('\\n', '', text)\n",
    "    text = re.sub('\\w*\\d\\w*', '', text)\n",
    "    return text"
   ]
  },
  {
   "cell_type": "markdown",
   "metadata": {},
   "source": [
    "## Preprocessor function"
   ]
  },
  {
   "cell_type": "code",
   "execution_count": 24,
   "metadata": {},
   "outputs": [
    {
     "data": {
      "text/plain": [
       "0    tiffanylue know listenin bad habit earlier sta...\n",
       "1               layin n bed headache ughhhhwaitin call\n",
       "2                        funeral ceremonygloomy friday\n",
       "3                              wants hang friends soon\n",
       "4    dannycastillo want trade someone houston ticke...\n",
       "Name: content, dtype: object"
      ]
     },
     "execution_count": 24,
     "metadata": {},
     "output_type": "execute_result"
    }
   ],
   "source": [
    "def text_preproc(text):\n",
    "    tokenizer = nltk.tokenize.RegexpTokenizer(r'\\w+')\n",
    "    nopunc = clean_text(text)\n",
    "    tokenized_text = tokenizer.tokenize(nopunc)\n",
    "    remove_stopwords = [w for w in tokenized_text if w not in stopwords.words('english')]\n",
    "    combined_text = ' '.join(remove_stopwords)\n",
    "    return combined_text\n",
    "\n",
    "data['content'] = data['content'].apply(lambda x: text_preproc(x))\n",
    "data['content'][:5]"
   ]
  },
  {
   "cell_type": "markdown",
   "metadata": {},
   "source": [
    "## Emotions list"
   ]
  },
  {
   "cell_type": "code",
   "execution_count": 29,
   "metadata": {},
   "outputs": [
    {
     "data": {
      "text/plain": [
       "['empty',\n",
       " 'sadness',\n",
       " 'enthusiasm',\n",
       " 'neutral',\n",
       " 'worry',\n",
       " 'surprise',\n",
       " 'love',\n",
       " 'fun',\n",
       " 'hate',\n",
       " 'happiness',\n",
       " 'boredom',\n",
       " 'relief',\n",
       " 'anger']"
      ]
     },
     "execution_count": 29,
     "metadata": {},
     "output_type": "execute_result"
    }
   ],
   "source": [
    "# Emotions list\n",
    "emotions = data['sentiment'].unique().tolist()\n",
    "emotions"
   ]
  },
  {
   "cell_type": "markdown",
   "metadata": {},
   "source": [
    "## Anger keywords"
   ]
  },
  {
   "cell_type": "code",
   "execution_count": 60,
   "metadata": {},
   "outputs": [
    {
     "data": {
      "text/plain": [
       "110"
      ]
     },
     "execution_count": 60,
     "metadata": {},
     "output_type": "execute_result"
    }
   ],
   "source": [
    "# Anger list\n",
    "anger_list = data[data['sentiment']=='anger']['content']\n",
    "anger_list.value_counts().sum()"
   ]
  },
  {
   "cell_type": "code",
   "execution_count": 58,
   "metadata": {},
   "outputs": [
    {
     "data": {
      "text/plain": [
       "'fuckinm transtelecom working fridaaaayyyyy packing dont like tried dye hair got blond chunk front middle part hair dang quotlocked abroadquot makes bein half brown good risk mgmt travelin world blend feel sorry hostage magnet white pepo lougagliardi damned hordies bcollinstattoo yes boo soar throats earaches stomach explode wendys everything tastes good bad rmilana hey wahts happening coffeclub didnt coffee two days dharshana historical jesus ever exist im finding hard prove hearsay accounts bugs lost files since high school hav chance win given free planthave wait till plant grow know anythin never knew dentention hard get drakesizzle dont want come dont come jeeeeez supernatural demon sam need numb pain xxx leahmul awh thats good get better soon stuck stupid jeuno flag wish windy fishing mikeavila ack read show thats horrible accounting taste greenwichlad oh let clarifyknow lots nice people live thought always breeding ground bnp confuzzled toaster oven fault im going look like idiot front father eboogiee smh whin comment hayles u serious touched arse ohmygod u bitch lol aaaaawwwwwww u tell mashable link ff quothow worksquot broke aaaaaaaaaaa mcfly shout moms wakin prematurely preciate stupid red hair difficult upkeep redyed manageable brownred boo arduous task accomplish workstuff already done amp usual hasnt either wmdev every time succeed code get quotwere sorry credit card declined timequot jamieoliver one year really wanted jamies cooking books english german aranarose murphys law sorry computer cooperating lots work kids bigcatjared sheesh studying bullshit econ test internet painfully slow today cindaxo straighteners another pounds though seems pricey motherfuck qw gas plus money desperation thats word day bad thingsi need stop thinking break twitterparty im home soon msaysrawr points gear question posted cant get rest dreadweave set quotcatch canquot dvd rented blockbustercom yesterday cracked figured minutes movie annoying want go see sats officialjobros ddlovato concertbut know ill pay hella wanted sausage mcmuffin gt breakfast twitterfails fucking hard right nowthis annoying im writing exam saturday illegal wheres weekend egheitasean denomination im library everythings blocked bout go work wicked sunburn chest wow im really bored pissed left library card take booky wook back kristanmarie least dont quad parking haha two cars drove real fast spashed mud grabbing snack drink chilis power went got food playspymaster want invite sick seeing links people playing left thingsmummysaid mummy told never wnted mummy ever live wid dad think confusing tommcfly respond big laptop big time switch eee bye big guy people work stressing fafsahelp dont know lender yea people definitely sucked butt toes friendly helpful wish headachealmost migraine would go away gah sprained left ankle got torn ligament right foot looks like back walking cane throat fire sam sean teasing saying gonna get wings without never anything good school rabbit life cycle dunno tune giutar stuffed lol ur tweet sound like ur voice yelling lol gah left glasses work reading giving headache cant believe much need days old age could empire dirt im aampe dad im freezing fully shivering else warm fones allowed ffs porcelainbaby christomopher talking obsession right yer ispoor little cock well doesnt deserve stick everyone cowell going producer shower pm triple crap turned acmcwhale always feel guilty seriously mum make eat yeah weird eating habit eating day really kill soon get ok sister sleepover tonight obnoxious friends driving insane rught brb ipod randomly go cos internet breaks famous daves mom hungry maddsie thanks none close beginning think sun blcok haox found parents putting dog tomorrow morning upset apperently ea knows copy sims legit upset fuck slept sisters fucking pc blued screened penldn got gonna go upto bed sec drunk im disgusted haha sick rigging tomorrow uuuuugh hate missed waynedastar interview wasnt home darn sitting traffic car gets rained washed sunday doesnt weather know california finally home dope ass week eminem guess need get iphone sure looks bad ass paulmoxham everything fault moxyeverything x finally getting sleepy right sky brightens figures gnimorning downloading new fonts whats great bout called wonderful love life god sake wateva stevebiddle used ago argument pretty sound trolley pusher mondayfunday wake peopleand keep awake please today going long onei already feel eww hello enjoy london watch hackneys theyre mental iaindodsworth told got rid last one listen wakey wakey lemon shakeyyyy haha goin schooliooo raining ugh guess wish right nowcalifornia olafsearson lol could try seriously tho dont sucks xx jet lag must soo annoyingg im uk timee welcome ukkkkk u coming scotland xxxx knows going sort omg goooood ass nappy nap jusss woke bout clean lil get ready yup join nin access fun hear pisses haha piratetimmy hopefully dont go far sometimes feel like renouncing roots kickass day full seaworld retarded year old guys xmen origins win day oil changed filthy accomplished filthy thats serious shit steve didnt send pictures call know love good yard sale brainofdane dude youre put final cut pro tell stable sittin waitin coffee full grown farm town going bed gawwddd headshotss inna row im fyaaahhh im way sleepy ill watch shows latagood nite twitfam god blessxoxo nerdindian take back insulted anieszkaa haha ltiitle bit yesterday ive day think ima chick allnighter hahaha cool johncmayer one favorite musiciansartists ever please keep great work john'"
      ]
     },
     "execution_count": 58,
     "metadata": {},
     "output_type": "execute_result"
    }
   ],
   "source": [
    "anger_list = ' '.join(anger_list)\n",
    "anger_list"
   ]
  },
  {
   "cell_type": "code",
   "execution_count": 43,
   "metadata": {},
   "outputs": [
    {
     "data": {
      "text/plain": [
       "{'fuckinm': 1,\n",
       " 'transtelecom': 1,\n",
       " 'working': 1,\n",
       " 'fridaaaayyyyy': 1,\n",
       " 'packing': 1,\n",
       " 'dont': 7,\n",
       " 'like': 5,\n",
       " 'tried': 1,\n",
       " 'dye': 1,\n",
       " 'hair': 3,\n",
       " 'got': 5,\n",
       " 'blond': 1,\n",
       " 'chunk': 1,\n",
       " 'front': 2,\n",
       " 'middle': 1,\n",
       " 'part': 1,\n",
       " 'dang': 1,\n",
       " 'quotlocked': 1,\n",
       " 'abroadquot': 1,\n",
       " 'makes': 1,\n",
       " 'bein': 1,\n",
       " 'half': 1,\n",
       " 'brown': 1,\n",
       " 'good': 5,\n",
       " 'risk': 1,\n",
       " 'mgmt': 1,\n",
       " 'travelin': 1,\n",
       " 'world': 1,\n",
       " 'blend': 1,\n",
       " 'feel': 4,\n",
       " 'sorry': 3,\n",
       " 'hostage': 1,\n",
       " 'magnet': 1,\n",
       " 'white': 1,\n",
       " 'pepo': 1,\n",
       " 'lougagliardi': 1,\n",
       " 'damned': 1,\n",
       " 'hordies': 1,\n",
       " 'bcollinstattoo': 1,\n",
       " 'yes': 1,\n",
       " 'boo': 2,\n",
       " 'soar': 1,\n",
       " 'throats': 1,\n",
       " 'earaches': 1,\n",
       " 'stomach': 1,\n",
       " 'explode': 1,\n",
       " 'wendys': 1,\n",
       " 'everything': 2,\n",
       " 'tastes': 1,\n",
       " 'bad': 3,\n",
       " 'rmilana': 1,\n",
       " 'hey': 1,\n",
       " 'wahts': 1,\n",
       " 'happening': 1,\n",
       " 'coffeclub': 1,\n",
       " 'didnt': 2,\n",
       " 'coffee': 2,\n",
       " 'two': 2,\n",
       " 'days': 2,\n",
       " 'dharshana': 1,\n",
       " 'historical': 1,\n",
       " 'jesus': 1,\n",
       " 'ever': 3,\n",
       " 'exist': 1,\n",
       " 'im': 12,\n",
       " 'finding': 1,\n",
       " 'hard': 3,\n",
       " 'prove': 1,\n",
       " 'hearsay': 1,\n",
       " 'accounts': 1,\n",
       " 'bugs': 1,\n",
       " 'lost': 1,\n",
       " 'files': 1,\n",
       " 'since': 1,\n",
       " 'high': 1,\n",
       " 'school': 2,\n",
       " 'hav': 1,\n",
       " 'chance': 1,\n",
       " 'win': 2,\n",
       " 'given': 1,\n",
       " 'free': 1,\n",
       " 'planthave': 1,\n",
       " 'wait': 1,\n",
       " 'till': 1,\n",
       " 'plant': 1,\n",
       " 'grow': 1,\n",
       " 'know': 5,\n",
       " 'anythin': 1,\n",
       " 'never': 3,\n",
       " 'knew': 1,\n",
       " 'dentention': 1,\n",
       " 'get': 8,\n",
       " 'drakesizzle': 1,\n",
       " 'want': 3,\n",
       " 'come': 2,\n",
       " 'jeeeeez': 1,\n",
       " 'supernatural': 1,\n",
       " 'demon': 1,\n",
       " 'sam': 2,\n",
       " 'need': 4,\n",
       " 'numb': 1,\n",
       " 'pain': 1,\n",
       " 'xxx': 1,\n",
       " 'leahmul': 1,\n",
       " 'awh': 1,\n",
       " 'thats': 4,\n",
       " 'better': 1,\n",
       " 'soon': 3,\n",
       " 'stuck': 1,\n",
       " 'stupid': 2,\n",
       " 'jeuno': 1,\n",
       " 'flag': 1,\n",
       " 'wish': 3,\n",
       " 'windy': 1,\n",
       " 'fishing': 1,\n",
       " 'mikeavila': 1,\n",
       " 'ack': 1,\n",
       " 'read': 1,\n",
       " 'show': 1,\n",
       " 'horrible': 1,\n",
       " 'accounting': 1,\n",
       " 'taste': 1,\n",
       " 'greenwichlad': 1,\n",
       " 'oh': 1,\n",
       " 'let': 1,\n",
       " 'clarifyknow': 1,\n",
       " 'lots': 2,\n",
       " 'nice': 1,\n",
       " 'people': 4,\n",
       " 'live': 2,\n",
       " 'thought': 1,\n",
       " 'always': 2,\n",
       " 'breeding': 1,\n",
       " 'ground': 1,\n",
       " 'bnp': 1,\n",
       " 'confuzzled': 1,\n",
       " 'toaster': 1,\n",
       " 'oven': 1,\n",
       " 'fault': 2,\n",
       " 'going': 5,\n",
       " 'look': 1,\n",
       " 'idiot': 1,\n",
       " 'father': 1,\n",
       " 'eboogiee': 1,\n",
       " 'smh': 1,\n",
       " 'whin': 1,\n",
       " 'comment': 1,\n",
       " 'hayles': 1,\n",
       " 'u': 4,\n",
       " 'serious': 2,\n",
       " 'touched': 1,\n",
       " 'arse': 1,\n",
       " 'ohmygod': 1,\n",
       " 'bitch': 1,\n",
       " 'lol': 4,\n",
       " 'aaaaawwwwwww': 1,\n",
       " 'tell': 2,\n",
       " 'mashable': 1,\n",
       " 'link': 1,\n",
       " 'ff': 1,\n",
       " 'quothow': 1,\n",
       " 'worksquot': 1,\n",
       " 'broke': 1,\n",
       " 'aaaaaaaaaaa': 1,\n",
       " 'mcfly': 1,\n",
       " 'shout': 1,\n",
       " 'moms': 1,\n",
       " 'wakin': 1,\n",
       " 'prematurely': 1,\n",
       " 'preciate': 1,\n",
       " 'red': 1,\n",
       " 'difficult': 1,\n",
       " 'upkeep': 1,\n",
       " 'redyed': 1,\n",
       " 'manageable': 1,\n",
       " 'brownred': 1,\n",
       " 'arduous': 1,\n",
       " 'task': 1,\n",
       " 'accomplish': 1,\n",
       " 'workstuff': 1,\n",
       " 'already': 2,\n",
       " 'done': 1,\n",
       " 'amp': 1,\n",
       " 'usual': 1,\n",
       " 'hasnt': 1,\n",
       " 'either': 1,\n",
       " 'wmdev': 1,\n",
       " 'every': 1,\n",
       " 'time': 2,\n",
       " 'succeed': 1,\n",
       " 'code': 1,\n",
       " 'quotwere': 1,\n",
       " 'credit': 1,\n",
       " 'card': 2,\n",
       " 'declined': 1,\n",
       " 'timequot': 1,\n",
       " 'jamieoliver': 1,\n",
       " 'one': 3,\n",
       " 'year': 2,\n",
       " 'really': 3,\n",
       " 'wanted': 2,\n",
       " 'jamies': 1,\n",
       " 'cooking': 1,\n",
       " 'books': 1,\n",
       " 'english': 1,\n",
       " 'german': 1,\n",
       " 'aranarose': 1,\n",
       " 'murphys': 1,\n",
       " 'law': 1,\n",
       " 'computer': 1,\n",
       " 'cooperating': 1,\n",
       " 'work': 5,\n",
       " 'kids': 1,\n",
       " 'bigcatjared': 1,\n",
       " 'sheesh': 1,\n",
       " 'studying': 1,\n",
       " 'bullshit': 1,\n",
       " 'econ': 1,\n",
       " 'test': 1,\n",
       " 'internet': 2,\n",
       " 'painfully': 1,\n",
       " 'slow': 1,\n",
       " 'today': 2,\n",
       " 'cindaxo': 1,\n",
       " 'straighteners': 1,\n",
       " 'another': 1,\n",
       " 'pounds': 1,\n",
       " 'though': 1,\n",
       " 'seems': 1,\n",
       " 'pricey': 1,\n",
       " 'motherfuck': 1,\n",
       " 'qw': 1,\n",
       " 'gas': 1,\n",
       " 'plus': 1,\n",
       " 'money': 1,\n",
       " 'desperation': 1,\n",
       " 'word': 1,\n",
       " 'day': 5,\n",
       " 'thingsi': 1,\n",
       " 'stop': 1,\n",
       " 'thinking': 1,\n",
       " 'break': 1,\n",
       " 'twitterparty': 1,\n",
       " 'home': 3,\n",
       " 'msaysrawr': 1,\n",
       " 'points': 1,\n",
       " 'gear': 1,\n",
       " 'question': 1,\n",
       " 'posted': 1,\n",
       " 'cant': 2,\n",
       " 'rest': 1,\n",
       " 'dreadweave': 1,\n",
       " 'set': 1,\n",
       " 'quotcatch': 1,\n",
       " 'canquot': 1,\n",
       " 'dvd': 1,\n",
       " 'rented': 1,\n",
       " 'blockbustercom': 1,\n",
       " 'yesterday': 2,\n",
       " 'cracked': 1,\n",
       " 'figured': 1,\n",
       " 'minutes': 1,\n",
       " 'movie': 1,\n",
       " 'annoying': 2,\n",
       " 'go': 6,\n",
       " 'see': 1,\n",
       " 'sats': 1,\n",
       " 'officialjobros': 1,\n",
       " 'ddlovato': 1,\n",
       " 'concertbut': 1,\n",
       " 'ill': 2,\n",
       " 'pay': 1,\n",
       " 'hella': 1,\n",
       " 'sausage': 1,\n",
       " 'mcmuffin': 1,\n",
       " 'gt': 1,\n",
       " 'breakfast': 1,\n",
       " 'twitterfails': 1,\n",
       " 'fucking': 2,\n",
       " 'right': 5,\n",
       " 'nowthis': 1,\n",
       " 'writing': 1,\n",
       " 'exam': 1,\n",
       " 'saturday': 1,\n",
       " 'illegal': 1,\n",
       " 'wheres': 1,\n",
       " 'weekend': 1,\n",
       " 'egheitasean': 1,\n",
       " 'denomination': 1,\n",
       " 'library': 2,\n",
       " 'everythings': 1,\n",
       " 'blocked': 1,\n",
       " 'bout': 3,\n",
       " 'wicked': 1,\n",
       " 'sunburn': 1,\n",
       " 'chest': 1,\n",
       " 'wow': 1,\n",
       " 'bored': 1,\n",
       " 'pissed': 1,\n",
       " 'left': 4,\n",
       " 'take': 2,\n",
       " 'booky': 1,\n",
       " 'wook': 1,\n",
       " 'back': 3,\n",
       " 'kristanmarie': 1,\n",
       " 'least': 1,\n",
       " 'quad': 1,\n",
       " 'parking': 1,\n",
       " 'haha': 5,\n",
       " 'cars': 1,\n",
       " 'drove': 1,\n",
       " 'real': 1,\n",
       " 'fast': 1,\n",
       " 'spashed': 1,\n",
       " 'mud': 1,\n",
       " 'grabbing': 1,\n",
       " 'snack': 1,\n",
       " 'drink': 1,\n",
       " 'chilis': 1,\n",
       " 'power': 1,\n",
       " 'went': 1,\n",
       " 'food': 1,\n",
       " 'playspymaster': 1,\n",
       " 'invite': 1,\n",
       " 'sick': 2,\n",
       " 'seeing': 1,\n",
       " 'links': 1,\n",
       " 'playing': 1,\n",
       " 'thingsmummysaid': 1,\n",
       " 'mummy': 2,\n",
       " 'told': 2,\n",
       " 'wnted': 1,\n",
       " 'wid': 1,\n",
       " 'dad': 2,\n",
       " 'think': 3,\n",
       " 'confusing': 1,\n",
       " 'tommcfly': 1,\n",
       " 'respond': 1,\n",
       " 'big': 3,\n",
       " 'laptop': 1,\n",
       " 'switch': 1,\n",
       " 'eee': 1,\n",
       " 'bye': 1,\n",
       " 'guy': 1,\n",
       " 'stressing': 1,\n",
       " 'fafsahelp': 1,\n",
       " 'lender': 1,\n",
       " 'yea': 1,\n",
       " 'definitely': 1,\n",
       " 'sucked': 1,\n",
       " 'butt': 1,\n",
       " 'toes': 1,\n",
       " 'friendly': 1,\n",
       " 'helpful': 1,\n",
       " 'headachealmost': 1,\n",
       " 'migraine': 1,\n",
       " 'would': 1,\n",
       " 'away': 1,\n",
       " 'gah': 2,\n",
       " 'sprained': 1,\n",
       " 'ankle': 1,\n",
       " 'torn': 1,\n",
       " 'ligament': 1,\n",
       " 'foot': 1,\n",
       " 'looks': 2,\n",
       " 'walking': 1,\n",
       " 'cane': 1,\n",
       " 'throat': 1,\n",
       " 'fire': 1,\n",
       " 'sean': 1,\n",
       " 'teasing': 1,\n",
       " 'saying': 1,\n",
       " 'gonna': 2,\n",
       " 'wings': 1,\n",
       " 'without': 1,\n",
       " 'anything': 1,\n",
       " 'rabbit': 1,\n",
       " 'life': 2,\n",
       " 'cycle': 1,\n",
       " 'dunno': 1,\n",
       " 'tune': 1,\n",
       " 'giutar': 1,\n",
       " 'stuffed': 1,\n",
       " 'ur': 2,\n",
       " 'tweet': 1,\n",
       " 'sound': 2,\n",
       " 'voice': 1,\n",
       " 'yelling': 1,\n",
       " 'glasses': 1,\n",
       " 'reading': 1,\n",
       " 'giving': 1,\n",
       " 'headache': 1,\n",
       " 'believe': 1,\n",
       " 'much': 1,\n",
       " 'old': 2,\n",
       " 'age': 1,\n",
       " 'could': 2,\n",
       " 'empire': 1,\n",
       " 'dirt': 1,\n",
       " 'aampe': 1,\n",
       " 'freezing': 1,\n",
       " 'fully': 1,\n",
       " 'shivering': 1,\n",
       " 'else': 1,\n",
       " 'warm': 1,\n",
       " 'fones': 1,\n",
       " 'allowed': 1,\n",
       " 'ffs': 1,\n",
       " 'porcelainbaby': 1,\n",
       " 'christomopher': 1,\n",
       " 'talking': 1,\n",
       " 'obsession': 1,\n",
       " 'yer': 1,\n",
       " 'ispoor': 1,\n",
       " 'little': 1,\n",
       " 'cock': 1,\n",
       " 'well': 1,\n",
       " 'doesnt': 2,\n",
       " 'deserve': 1,\n",
       " 'stick': 1,\n",
       " 'everyone': 1,\n",
       " 'cowell': 1,\n",
       " 'producer': 1,\n",
       " 'shower': 1,\n",
       " 'pm': 1,\n",
       " 'triple': 1,\n",
       " 'crap': 1,\n",
       " 'turned': 1,\n",
       " 'acmcwhale': 1,\n",
       " 'guilty': 1,\n",
       " 'seriously': 2,\n",
       " 'mum': 1,\n",
       " 'make': 1,\n",
       " 'eat': 1,\n",
       " 'yeah': 1,\n",
       " 'weird': 1,\n",
       " 'eating': 2,\n",
       " 'habit': 1,\n",
       " 'kill': 1,\n",
       " 'ok': 1,\n",
       " 'sister': 1,\n",
       " 'sleepover': 1,\n",
       " 'tonight': 1,\n",
       " 'obnoxious': 1,\n",
       " 'friends': 1,\n",
       " 'driving': 1,\n",
       " 'insane': 1,\n",
       " 'rught': 1,\n",
       " 'brb': 1,\n",
       " 'ipod': 1,\n",
       " 'randomly': 1,\n",
       " 'cos': 1,\n",
       " 'breaks': 1,\n",
       " 'famous': 1,\n",
       " 'daves': 1,\n",
       " 'mom': 1,\n",
       " 'hungry': 1,\n",
       " 'maddsie': 1,\n",
       " 'thanks': 1,\n",
       " 'none': 1,\n",
       " 'close': 1,\n",
       " 'beginning': 1,\n",
       " 'sun': 1,\n",
       " 'blcok': 1,\n",
       " 'haox': 1,\n",
       " 'found': 1,\n",
       " 'parents': 1,\n",
       " 'putting': 1,\n",
       " 'dog': 1,\n",
       " 'tomorrow': 2,\n",
       " 'morning': 1,\n",
       " 'upset': 2,\n",
       " 'apperently': 1,\n",
       " 'ea': 1,\n",
       " 'knows': 2,\n",
       " 'copy': 1,\n",
       " 'sims': 1,\n",
       " 'legit': 1,\n",
       " 'fuck': 1,\n",
       " 'slept': 1,\n",
       " 'sisters': 1,\n",
       " 'pc': 1,\n",
       " 'blued': 1,\n",
       " 'screened': 1,\n",
       " 'penldn': 1,\n",
       " 'upto': 1,\n",
       " 'bed': 2,\n",
       " 'sec': 1,\n",
       " 'drunk': 1,\n",
       " 'disgusted': 1,\n",
       " 'rigging': 1,\n",
       " 'uuuuugh': 1,\n",
       " 'hate': 1,\n",
       " 'missed': 1,\n",
       " 'waynedastar': 1,\n",
       " 'interview': 1,\n",
       " 'wasnt': 1,\n",
       " 'darn': 1,\n",
       " 'sitting': 1,\n",
       " 'traffic': 1,\n",
       " 'car': 1,\n",
       " 'gets': 1,\n",
       " 'rained': 1,\n",
       " 'washed': 1,\n",
       " 'sunday': 1,\n",
       " 'weather': 1,\n",
       " 'california': 1,\n",
       " 'finally': 2,\n",
       " 'dope': 1,\n",
       " 'ass': 3,\n",
       " 'week': 1,\n",
       " 'eminem': 1,\n",
       " 'guess': 2,\n",
       " 'iphone': 1,\n",
       " 'sure': 1,\n",
       " 'paulmoxham': 1,\n",
       " 'moxyeverything': 1,\n",
       " 'x': 1,\n",
       " 'getting': 1,\n",
       " 'sleepy': 2,\n",
       " 'sky': 1,\n",
       " 'brightens': 1,\n",
       " 'figures': 1,\n",
       " 'gnimorning': 1,\n",
       " 'downloading': 1,\n",
       " 'new': 1,\n",
       " 'fonts': 1,\n",
       " 'whats': 1,\n",
       " 'great': 2,\n",
       " 'called': 1,\n",
       " 'wonderful': 1,\n",
       " 'love': 2,\n",
       " 'god': 2,\n",
       " 'sake': 1,\n",
       " 'wateva': 1,\n",
       " 'stevebiddle': 1,\n",
       " 'used': 1,\n",
       " 'ago': 1,\n",
       " 'argument': 1,\n",
       " 'pretty': 1,\n",
       " 'trolley': 1,\n",
       " 'pusher': 1,\n",
       " 'mondayfunday': 1,\n",
       " 'wake': 1,\n",
       " 'peopleand': 1,\n",
       " 'keep': 2,\n",
       " 'awake': 1,\n",
       " 'please': 2,\n",
       " 'long': 1,\n",
       " 'onei': 1,\n",
       " 'eww': 1,\n",
       " 'hello': 1,\n",
       " 'enjoy': 1,\n",
       " 'london': 1,\n",
       " 'watch': 2,\n",
       " 'hackneys': 1,\n",
       " 'theyre': 1,\n",
       " 'mental': 1,\n",
       " 'iaindodsworth': 1,\n",
       " 'rid': 1,\n",
       " 'last': 1,\n",
       " 'listen': 1,\n",
       " 'wakey': 2,\n",
       " 'lemon': 1,\n",
       " 'shakeyyyy': 1,\n",
       " 'goin': 1,\n",
       " 'schooliooo': 1,\n",
       " 'raining': 1,\n",
       " 'ugh': 1,\n",
       " 'nowcalifornia': 1,\n",
       " 'olafsearson': 1,\n",
       " 'try': 1,\n",
       " 'tho': 1,\n",
       " 'sucks': 1,\n",
       " 'xx': 1,\n",
       " 'jet': 1,\n",
       " 'lag': 1,\n",
       " 'must': 1,\n",
       " 'soo': 1,\n",
       " 'annoyingg': 1,\n",
       " 'uk': 1,\n",
       " 'timee': 1,\n",
       " 'welcome': 1,\n",
       " 'ukkkkk': 1,\n",
       " 'coming': 1,\n",
       " 'scotland': 1,\n",
       " 'xxxx': 1,\n",
       " 'sort': 1,\n",
       " 'omg': 1,\n",
       " 'goooood': 1,\n",
       " 'nappy': 1,\n",
       " 'nap': 1,\n",
       " 'jusss': 1,\n",
       " 'woke': 1,\n",
       " 'clean': 1,\n",
       " 'lil': 1,\n",
       " 'ready': 1,\n",
       " 'yup': 1,\n",
       " 'join': 1,\n",
       " 'nin': 1,\n",
       " 'access': 1,\n",
       " 'fun': 1,\n",
       " 'hear': 1,\n",
       " 'pisses': 1,\n",
       " 'piratetimmy': 1,\n",
       " 'hopefully': 1,\n",
       " 'far': 1,\n",
       " 'sometimes': 1,\n",
       " 'renouncing': 1,\n",
       " 'roots': 1,\n",
       " 'kickass': 1,\n",
       " 'full': 2,\n",
       " 'seaworld': 1,\n",
       " 'retarded': 1,\n",
       " 'guys': 1,\n",
       " 'xmen': 1,\n",
       " 'origins': 1,\n",
       " 'oil': 1,\n",
       " 'changed': 1,\n",
       " 'filthy': 2,\n",
       " 'accomplished': 1,\n",
       " 'shit': 1,\n",
       " 'steve': 1,\n",
       " 'send': 1,\n",
       " 'pictures': 1,\n",
       " 'call': 1,\n",
       " 'yard': 1,\n",
       " 'sale': 1,\n",
       " 'brainofdane': 1,\n",
       " 'dude': 1,\n",
       " 'youre': 1,\n",
       " 'put': 1,\n",
       " 'final': 1,\n",
       " 'cut': 1,\n",
       " 'pro': 1,\n",
       " 'stable': 1,\n",
       " 'sittin': 1,\n",
       " 'waitin': 1,\n",
       " 'grown': 1,\n",
       " 'farm': 1,\n",
       " 'town': 1,\n",
       " 'gawwddd': 1,\n",
       " 'headshotss': 1,\n",
       " 'inna': 1,\n",
       " 'row': 1,\n",
       " 'fyaaahhh': 1,\n",
       " 'way': 1,\n",
       " 'shows': 1,\n",
       " 'latagood': 1,\n",
       " 'nite': 1,\n",
       " 'twitfam': 1,\n",
       " 'blessxoxo': 1,\n",
       " 'nerdindian': 1,\n",
       " 'insulted': 1,\n",
       " 'anieszkaa': 1,\n",
       " 'ltiitle': 1,\n",
       " 'bit': 1,\n",
       " 'ive': 1,\n",
       " 'ima': 1,\n",
       " 'chick': 1,\n",
       " 'allnighter': 1,\n",
       " 'hahaha': 1,\n",
       " 'cool': 1,\n",
       " 'johncmayer': 1,\n",
       " 'favorite': 1,\n",
       " 'musiciansartists': 1,\n",
       " 'john': 1}"
      ]
     },
     "execution_count": 43,
     "metadata": {},
     "output_type": "execute_result"
    }
   ],
   "source": [
    "def unique_words(text):\n",
    "    text = text.split()\n",
    "    dict = {}\n",
    "    for word in text:\n",
    "        if word in dict:\n",
    "            dict[word] += 1\n",
    "        else:\n",
    "            dict.update({word : 1})\n",
    "    return dict\n",
    "anger_tokens = unique_words(anger_list)\n",
    "anger_tokens"
   ]
  },
  {
   "cell_type": "markdown",
   "metadata": {},
   "source": [
    "## Anger Plot"
   ]
  },
  {
   "cell_type": "code",
   "execution_count": 52,
   "metadata": {},
   "outputs": [],
   "source": [
    "anger_keys = list(anger_tokens.keys())\n",
    "anger_values = list(anger_tokens.values())"
   ]
  },
  {
   "cell_type": "code",
   "execution_count": 54,
   "metadata": {},
   "outputs": [
    {
     "data": {
      "text/plain": [
       "<AxesSubplot:>"
      ]
     },
     "execution_count": 54,
     "metadata": {},
     "output_type": "execute_result"
    },
    {
     "data": {
      "image/png": "[encoded data removed]",
      "text/plain": [
       "<Figure size 432x288 with 1 Axes>"
      ]
     },
     "metadata": {
      "needs_background": "light"
     },
     "output_type": "display_data"
    }
   ],
   "source": [
    "sns.barplot(y=anger_values, x=anger_keys)"
   ]
  },
  {
   "cell_type": "markdown",
   "metadata": {},
   "source": [
    "# Feature Engineering"
   ]
  },
  {
   "cell_type": "code",
   "execution_count": null,
   "metadata": {},
   "outputs": [],
   "source": []
  }
 ],
 "metadata": {
  "kernelspec": {
   "display_name": "Python 3.10.4 ('env1')",
   "language": "python",
   "name": "python3"
  },
  "language_info": {
   "codemirror_mode": {
    "name": "ipython",
    "version": 3
   },
   "file_extension": ".py",
   "mimetype": "text/x-python",
   "name": "python",
   "nbconvert_exporter": "python",
   "pygments_lexer": "ipython3",
   "version": "3.10.4"
  },
  "orig_nbformat": 4,
  "vscode": {
   "interpreter": {
    "hash": "5024435cbfb8faf8bbbcdcac495405647c340211599983c8ce8e312773b27794"
   }
  }
 },
 "nbformat": 4,
 "nbformat_minor": 2
}
