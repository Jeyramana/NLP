{
 "cells": [
  {
   "cell_type": "markdown",
   "metadata": {},
   "source": [
    "# Import"
   ]
  },
  {
   "cell_type": "code",
   "execution_count": 1,
   "metadata": {},
   "outputs": [],
   "source": [
    "import numpy as np\n",
    "import pandas as pd"
   ]
  },
  {
   "cell_type": "code",
   "execution_count": 2,
   "metadata": {},
   "outputs": [],
   "source": [
    "# Text Preprocessing\n",
    "import string #\n",
    "import re # Regular Expression\n",
    "import pprint # Pretty Print for long texts\n",
    "import nltk\n",
    "from nltk.corpus import stopwords\n",
    "from wordcloud import WordCloud"
   ]
  },
  {
   "cell_type": "code",
   "execution_count": 38,
   "metadata": {},
   "outputs": [],
   "source": [
    "# Feature Engineering\n",
    "from sklearn.feature_extraction.text import CountVectorizer, TfidfVectorizer\n"
   ]
  },
  {
   "cell_type": "code",
   "execution_count": 121,
   "metadata": {},
   "outputs": [],
   "source": [
    "# Text Classification\n",
    "from sklearn.model_selection import train_test_split\n",
    "from sklearn.naive_bayes import MultinomialNB, GaussianNB\n",
    "from sklearn import tree\n",
    "from sklearn.metrics import accuracy_score, confusion_matrix, classification_report, plot_confusion_matrix"
   ]
  },
  {
   "cell_type": "code",
   "execution_count": 4,
   "metadata": {},
   "outputs": [],
   "source": [
    "# Visual\n",
    "import matplotlib.pyplot as plt\n",
    "import seaborn as sns"
   ]
  },
  {
   "cell_type": "code",
   "execution_count": 5,
   "metadata": {},
   "outputs": [],
   "source": [
    "# File system\n",
    "import os\n",
    "# Warning\n",
    "import warnings\n",
    "warnings.filterwarnings('ignore')"
   ]
  },
  {
   "cell_type": "markdown",
   "metadata": {},
   "source": [
    "# Read Data"
   ]
  },
  {
   "cell_type": "code",
   "execution_count": 75,
   "metadata": {},
   "outputs": [
    {
     "data": {
      "text/html": [
       "<div>\n",
       "<style scoped>\n",
       "    .dataframe tbody tr th:only-of-type {\n",
       "        vertical-align: middle;\n",
       "    }\n",
       "\n",
       "    .dataframe tbody tr th {\n",
       "        vertical-align: top;\n",
       "    }\n",
       "\n",
       "    .dataframe thead th {\n",
       "        text-align: right;\n",
       "    }\n",
       "</style>\n",
       "<table border=\"1\" class=\"dataframe\">\n",
       "  <thead>\n",
       "    <tr style=\"text-align: right;\">\n",
       "      <th></th>\n",
       "      <th>tweet_id</th>\n",
       "      <th>sentiment</th>\n",
       "      <th>author</th>\n",
       "      <th>content</th>\n",
       "    </tr>\n",
       "  </thead>\n",
       "  <tbody>\n",
       "    <tr>\n",
       "      <th>0</th>\n",
       "      <td>1956967341</td>\n",
       "      <td>empty</td>\n",
       "      <td>xoshayzers</td>\n",
       "      <td>@tiffanylue i know  i was listenin to bad habi...</td>\n",
       "    </tr>\n",
       "    <tr>\n",
       "      <th>1</th>\n",
       "      <td>1956967666</td>\n",
       "      <td>sadness</td>\n",
       "      <td>wannamama</td>\n",
       "      <td>Layin n bed with a headache  ughhhh...waitin o...</td>\n",
       "    </tr>\n",
       "    <tr>\n",
       "      <th>2</th>\n",
       "      <td>1956967696</td>\n",
       "      <td>sadness</td>\n",
       "      <td>coolfunky</td>\n",
       "      <td>Funeral ceremony...gloomy friday...</td>\n",
       "    </tr>\n",
       "    <tr>\n",
       "      <th>3</th>\n",
       "      <td>1956967789</td>\n",
       "      <td>enthusiasm</td>\n",
       "      <td>czareaquino</td>\n",
       "      <td>wants to hang out with friends SOON!</td>\n",
       "    </tr>\n",
       "    <tr>\n",
       "      <th>4</th>\n",
       "      <td>1956968416</td>\n",
       "      <td>neutral</td>\n",
       "      <td>xkilljoyx</td>\n",
       "      <td>@dannycastillo We want to trade with someone w...</td>\n",
       "    </tr>\n",
       "  </tbody>\n",
       "</table>\n",
       "</div>"
      ],
      "text/plain": [
       "     tweet_id   sentiment       author  \\\n",
       "0  1956967341       empty   xoshayzers   \n",
       "1  1956967666     sadness    wannamama   \n",
       "2  1956967696     sadness    coolfunky   \n",
       "3  1956967789  enthusiasm  czareaquino   \n",
       "4  1956968416     neutral    xkilljoyx   \n",
       "\n",
       "                                             content  \n",
       "0  @tiffanylue i know  i was listenin to bad habi...  \n",
       "1  Layin n bed with a headache  ughhhh...waitin o...  \n",
       "2                Funeral ceremony...gloomy friday...  \n",
       "3               wants to hang out with friends SOON!  \n",
       "4  @dannycastillo We want to trade with someone w...  "
      ]
     },
     "execution_count": 75,
     "metadata": {},
     "output_type": "execute_result"
    }
   ],
   "source": [
    "data = pd.read_csv('CSV_file/text_emotion.csv')\n",
    "data.head()"
   ]
  },
  {
   "cell_type": "markdown",
   "metadata": {},
   "source": [
    "# Exploratory Data Analysis"
   ]
  },
  {
   "cell_type": "markdown",
   "metadata": {},
   "source": [
    "## No. of Rows"
   ]
  },
  {
   "cell_type": "code",
   "execution_count": 7,
   "metadata": {},
   "outputs": [
    {
     "data": {
      "text/plain": [
       "(40000, 4)"
      ]
     },
     "execution_count": 7,
     "metadata": {},
     "output_type": "execute_result"
    }
   ],
   "source": [
    "data.shape"
   ]
  },
  {
   "cell_type": "markdown",
   "metadata": {},
   "source": [
    "## Data Type"
   ]
  },
  {
   "cell_type": "code",
   "execution_count": 8,
   "metadata": {},
   "outputs": [
    {
     "data": {
      "text/plain": [
       "tweet_id      int64\n",
       "sentiment    object\n",
       "author       object\n",
       "content      object\n",
       "dtype: object"
      ]
     },
     "execution_count": 8,
     "metadata": {},
     "output_type": "execute_result"
    }
   ],
   "source": [
    "# data type\n",
    "data.dtypes"
   ]
  },
  {
   "cell_type": "markdown",
   "metadata": {},
   "source": [
    "## Missing data"
   ]
  },
  {
   "cell_type": "code",
   "execution_count": 9,
   "metadata": {},
   "outputs": [
    {
     "data": {
      "text/plain": [
       "tweet_id     0\n",
       "sentiment    0\n",
       "author       0\n",
       "content      0\n",
       "dtype: int64"
      ]
     },
     "execution_count": 9,
     "metadata": {},
     "output_type": "execute_result"
    }
   ],
   "source": [
    "data.isnull().sum()"
   ]
  },
  {
   "cell_type": "markdown",
   "metadata": {},
   "source": [
    "## Keyword"
   ]
  },
  {
   "cell_type": "code",
   "execution_count": 10,
   "metadata": {},
   "outputs": [
    {
     "data": {
      "text/plain": [
       "neutral       8638\n",
       "worry         8459\n",
       "happiness     5209\n",
       "sadness       5165\n",
       "love          3842\n",
       "surprise      2187\n",
       "fun           1776\n",
       "relief        1526\n",
       "hate          1323\n",
       "empty          827\n",
       "enthusiasm     759\n",
       "boredom        179\n",
       "anger          110\n",
       "Name: sentiment, dtype: int64"
      ]
     },
     "execution_count": 10,
     "metadata": {},
     "output_type": "execute_result"
    }
   ],
   "source": [
    "data['sentiment'].value_counts()"
   ]
  },
  {
   "cell_type": "code",
   "execution_count": 11,
   "metadata": {},
   "outputs": [
    {
     "data": {
      "text/plain": [
       "<AxesSubplot:>"
      ]
     },
     "execution_count": 11,
     "metadata": {},
     "output_type": "execute_result"
    },
    {
     "data": {
      "image/png": "[encoded data removed]",
      "text/plain": [
       "<Figure size 432x288 with 1 Axes>"
      ]
     },
     "metadata": {
      "needs_background": "light"
     },
     "output_type": "display_data"
    }
   ],
   "source": [
    "data['sentiment'].value_counts().plot(kind='bar')"
   ]
  },
  {
   "cell_type": "code",
   "execution_count": 12,
   "metadata": {},
   "outputs": [
    {
     "data": {
      "text/plain": [
       "<AxesSubplot:xlabel='sentiment'>"
      ]
     },
     "execution_count": 12,
     "metadata": {},
     "output_type": "execute_result"
    },
    {
     "data": {
      "image/png": "[encoded data removed]",
      "text/plain": [
       "<Figure size 432x288 with 1 Axes>"
      ]
     },
     "metadata": {
      "needs_background": "light"
     },
     "output_type": "display_data"
    }
   ],
   "source": [
    "# frequency of sentiment terms\n",
    "sns.barplot(y=data['sentiment'].value_counts().index, x=data['sentiment'].value_counts())"
   ]
  },
  {
   "cell_type": "markdown",
   "metadata": {},
   "source": [
    "# Text Data Pre-Processing"
   ]
  },
  {
   "cell_type": "markdown",
   "metadata": {},
   "source": [
    "## Preprocessor function"
   ]
  },
  {
   "cell_type": "code",
   "execution_count": null,
   "metadata": {},
   "outputs": [],
   "source": [
    "def clean_text(text):\n",
    "    '''Make text lowercase, remove text in square brackets,remove links,remove punctuation\n",
    "    and remove words containing numbers.'''\n",
    "    text = text.lower()\n",
    "    text = re.sub('\\[.*?\\]', '', text)\n",
    "    text = re.sub('https?://\\S+|www\\.\\S+', '', text)\n",
    "    text = re.sub('<.*?>+½', '', text)\n",
    "    text = re.sub('[%s]' % re.escape(string.punctuation), '', text)\n",
    "    text = re.sub('\\n', '', text)\n",
    "    text = re.sub('\\w*\\d\\w*', '', text)\n",
    "    return text\n",
    "\n",
    "def text_preproc(text):\n",
    "    tokenizer = nltk.tokenize.RegexpTokenizer(r'\\w+')\n",
    "    nopunc = clean_text(text)\n",
    "    tokenized_text = tokenizer.tokenize(nopunc)\n",
    "    remove_stopwords = [w for w in tokenized_text if w not in stopwords.words('english')]\n",
    "    combined_text = ' '.join(remove_stopwords)\n",
    "    return combined_text\n",
    "\n",
    "# data['content'] = data['content'].apply(lambda x: text_preproc(x))\n",
    "# data['content'][:5]"
   ]
  },
  {
   "cell_type": "markdown",
   "metadata": {},
   "source": [
    "## Separate Functions"
   ]
  },
  {
   "cell_type": "code",
   "execution_count": 60,
   "metadata": {},
   "outputs": [
    {
     "data": {
      "text/plain": [
       "0    tiffanylue i know  i was listenin to bad habit...\n",
       "1    Layin n bed with a headache  ughhhhwaitin on y...\n",
       "2                        Funeral ceremonygloomy friday\n",
       "3                  wants to hang out with friends SOON\n",
       "4    dannycastillo We want to trade with someone wh...\n",
       "Name: content, dtype: object"
      ]
     },
     "execution_count": 60,
     "metadata": {},
     "output_type": "execute_result"
    }
   ],
   "source": [
    "def remove_punctuation(tweets):\n",
    "    for x in range(len(tweets)):\n",
    "        word = tweets[x].translate(str.maketrans('', '', string.punctuation))\n",
    "        tweets[x] = word\n",
    "\n",
    "remove_punctuation(data['content'])\n",
    "data['content'].head()\n",
    "        "
   ]
  },
  {
   "cell_type": "code",
   "execution_count": 61,
   "metadata": {},
   "outputs": [
    {
     "data": {
      "text/plain": [
       "0    tiffanylue i know  i was listenin to bad habit...\n",
       "1    layin n bed with a headache  ughhhhwaitin on y...\n",
       "2                        funeral ceremonygloomy friday\n",
       "3                  wants to hang out with friends soon\n",
       "4    dannycastillo we want to trade with someone wh...\n",
       "Name: content, dtype: object"
      ]
     },
     "execution_count": 61,
     "metadata": {},
     "output_type": "execute_result"
    }
   ],
   "source": [
    "def lower_case(tweets):\n",
    "    for x in range(len(tweets)):\n",
    "        tweets[x] = tweets[x].lower()\n",
    "        \n",
    "lower_case(data['content'])\n",
    "data['content'].head()"
   ]
  },
  {
   "cell_type": "code",
   "execution_count": 76,
   "metadata": {},
   "outputs": [],
   "source": [
    "def tokenization_words(tweets):\n",
    "    for x in range(len(tweets)):\n",
    "        tweets[x] = tweets[x].lower()  \n",
    "        tweets[x] = tweets[x].translate(str.maketrans('', '', string.punctuation))\n",
    "        tweets[x] = tweets[x].split()\n",
    "        for y in tweets[x]:\n",
    "            if y in stopwords.words('english'):\n",
    "                ind = tweets[x].index(y)\n",
    "                tweets[x].pop(ind)\n",
    "        tweets[x] = ' '.join(tweets[x])"
   ]
  },
  {
   "cell_type": "code",
   "execution_count": 77,
   "metadata": {},
   "outputs": [
    {
     "data": {
      "text/plain": [
       "0    tiffanylue know was listenin bad habit earlier...\n",
       "1        layin n bed a headache ughhhhwaitin your call\n",
       "2                        funeral ceremonygloomy friday\n",
       "3                         wants hang with friends soon\n",
       "4    dannycastillo want trade someone has houston t...\n",
       "Name: content, dtype: object"
      ]
     },
     "execution_count": 77,
     "metadata": {},
     "output_type": "execute_result"
    }
   ],
   "source": [
    "tokenization_words(data['content'])\n",
    "data['content'].head()"
   ]
  },
  {
   "cell_type": "code",
   "execution_count": null,
   "metadata": {},
   "outputs": [],
   "source": [
    "def removing_stop_words(tweets):\n",
    "    for x in range(len(tweets)):\n",
    "        for y in tweets[x]:\n",
    "            if y in stopwords.words('english'):\n",
    "                ind = tweets[x].index(y)\n",
    "                tweets[x].pop(ind)\n",
    "\n",
    "removing_stop_words(data['content'])\n",
    "data['content'].head()"
   ]
  },
  {
   "cell_type": "code",
   "execution_count": null,
   "metadata": {},
   "outputs": [],
   "source": [
    "def join_data(tweets):\n",
    "    for x in range(len(tweets)):\n",
    "        tweets[x] = ' '.join(tweets[x])\n",
    "\n",
    "join_data(data['content'])\n",
    "data['content'].head()"
   ]
  },
  {
   "cell_type": "markdown",
   "metadata": {},
   "source": [
    "## Emotions list"
   ]
  },
  {
   "cell_type": "code",
   "execution_count": 64,
   "metadata": {},
   "outputs": [
    {
     "data": {
      "text/plain": [
       "['empty',\n",
       " 'sadness',\n",
       " 'enthusiasm',\n",
       " 'neutral',\n",
       " 'worry',\n",
       " 'surprise',\n",
       " 'love',\n",
       " 'fun',\n",
       " 'hate',\n",
       " 'happiness',\n",
       " 'boredom',\n",
       " 'relief',\n",
       " 'anger']"
      ]
     },
     "execution_count": 64,
     "metadata": {},
     "output_type": "execute_result"
    }
   ],
   "source": [
    "# Emotions list\n",
    "emotions = data['sentiment'].unique().tolist()\n",
    "emotions"
   ]
  },
  {
   "cell_type": "markdown",
   "metadata": {},
   "source": [
    "## Anger keywords"
   ]
  },
  {
   "cell_type": "code",
   "execution_count": 16,
   "metadata": {},
   "outputs": [
    {
     "data": {
      "text/plain": [
       "110"
      ]
     },
     "execution_count": 16,
     "metadata": {},
     "output_type": "execute_result"
    }
   ],
   "source": [
    "# Anger list\n",
    "anger_list = data[data['sentiment']=='anger']['content']\n",
    "anger_list.value_counts().sum()"
   ]
  },
  {
   "cell_type": "code",
   "execution_count": 17,
   "metadata": {},
   "outputs": [],
   "source": [
    "anger_list = ' '.join(anger_list)\n",
    "# anger_list"
   ]
  },
  {
   "cell_type": "code",
   "execution_count": 18,
   "metadata": {},
   "outputs": [
    {
     "data": {
      "text/plain": [
       "7"
      ]
     },
     "execution_count": 18,
     "metadata": {},
     "output_type": "execute_result"
    }
   ],
   "source": [
    "anger_list.count('dont')"
   ]
  },
  {
   "cell_type": "code",
   "execution_count": 19,
   "metadata": {},
   "outputs": [],
   "source": [
    "def unique_words(text):\n",
    "    text = text.split()\n",
    "    dict = {}\n",
    "    dat = []\n",
    "    for word in text:\n",
    "        if word not in dat:\n",
    "            dat.append(word)\n",
    "    for i in dat:\n",
    "        dict[i] = anger_list.count(i)\n",
    "    return dict\n",
    "anger_tokens = unique_words(anger_list)\n",
    "# anger_tokens  \n",
    "# ({'fuckinm': 1,\n",
    "#  'transtelecom': 1,)"
   ]
  },
  {
   "cell_type": "code",
   "execution_count": 20,
   "metadata": {},
   "outputs": [],
   "source": [
    "anger_tokens_sorted = dict(sorted(anger_tokens.items(), key=lambda x:x[1], reverse=True))\n",
    "# anger_tokens_sorted"
   ]
  },
  {
   "cell_type": "markdown",
   "metadata": {},
   "source": [
    "## Anger Plot"
   ]
  },
  {
   "cell_type": "code",
   "execution_count": 21,
   "metadata": {},
   "outputs": [],
   "source": [
    "anger_keys = list(anger_tokens_sorted.keys())\n",
    "anger_values = list(anger_tokens_sorted.values())"
   ]
  },
  {
   "cell_type": "code",
   "execution_count": 23,
   "metadata": {},
   "outputs": [
    {
     "data": {
      "image/png": "[encoded data removed]",
      "text/plain": [
       "<Figure size 7200x2160 with 1 Axes>"
      ]
     },
     "metadata": {
      "needs_background": "light"
     },
     "output_type": "display_data"
    }
   ],
   "source": [
    "plt.figure(figsize=(100, 30))\n",
    "sns.barplot(y=anger_values[:40], x=anger_keys[:40])\n",
    "plt.show()"
   ]
  },
  {
   "cell_type": "markdown",
   "metadata": {},
   "source": [
    "# Feature Engineering"
   ]
  },
  {
   "cell_type": "markdown",
   "metadata": {},
   "source": [
    "## Bag of Words (Count Vectorizer)"
   ]
  },
  {
   "cell_type": "code",
   "execution_count": 78,
   "metadata": {},
   "outputs": [],
   "source": [
    "# Splitting features and labels\n",
    "x_features = data['content']\n",
    "y_label = data['sentiment']"
   ]
  },
  {
   "cell_type": "code",
   "execution_count": 79,
   "metadata": {},
   "outputs": [],
   "source": [
    "count_vectorizer = CountVectorizer()\n",
    "X_vector = count_vectorizer.fit_transform(x_features) # Fitting vocabolary"
   ]
  },
  {
   "cell_type": "code",
   "execution_count": null,
   "metadata": {},
   "outputs": [],
   "source": [
    "count_vectorizer.get_feature_names()"
   ]
  },
  {
   "cell_type": "code",
   "execution_count": null,
   "metadata": {},
   "outputs": [],
   "source": [
    "print(X_vector.todense()) # if its zero, it means its not repeated, if repeated then need to preserve the space"
   ]
  },
  {
   "cell_type": "markdown",
   "metadata": {},
   "source": [
    "# Text Classification"
   ]
  },
  {
   "cell_type": "markdown",
   "metadata": {},
   "source": [
    "## Model Selection"
   ]
  },
  {
   "cell_type": "code",
   "execution_count": 81,
   "metadata": {},
   "outputs": [],
   "source": [
    "X_train, X_test, y_train, y_test = train_test_split(X_vector, y_label, test_size=0.3, random_state=42) # test data 30%"
   ]
  },
  {
   "cell_type": "markdown",
   "metadata": {},
   "source": [
    "## Naives Bayes"
   ]
  },
  {
   "cell_type": "code",
   "execution_count": 83,
   "metadata": {},
   "outputs": [
    {
     "data": {
      "text/plain": [
       "MultinomialNB()"
      ]
     },
     "execution_count": 83,
     "metadata": {},
     "output_type": "execute_result"
    }
   ],
   "source": [
    "# Score using CounterVectorizer\n",
    "#classifier: clf_NB\n",
    "clf_NB = MultinomialNB()\n",
    "clf_NB.fit(X_train, y_train) # fitting training features and labels"
   ]
  },
  {
   "cell_type": "code",
   "execution_count": 126,
   "metadata": {},
   "outputs": [
    {
     "data": {
      "text/plain": [
       "[57.43214285714286]"
      ]
     },
     "execution_count": 126,
     "metadata": {},
     "output_type": "execute_result"
    }
   ],
   "source": [
    "# Scores appened for all classifiers\n",
    "scores = []\n",
    "scores.append(clf_NB.score(X_train, y_train)*100)\n",
    "scores"
   ]
  },
  {
   "cell_type": "code",
   "execution_count": 85,
   "metadata": {},
   "outputs": [
    {
     "data": {
      "text/plain": [
       "array(['happiness', 'neutral', 'worry', ..., 'worry', 'worry', 'worry'],\n",
       "      dtype='<U10')"
      ]
     },
     "execution_count": 85,
     "metadata": {},
     "output_type": "execute_result"
    }
   ],
   "source": [
    "y_predict = clf_NB.predict(X_test)\n",
    "y_predict # all sentimental keyword for the tweets"
   ]
  },
  {
   "cell_type": "code",
   "execution_count": 89,
   "metadata": {},
   "outputs": [
    {
     "name": "stdout",
     "output_type": "stream",
     "text": [
      "worry\n",
      "['worry']\n"
     ]
    }
   ],
   "source": [
    "#Check prediction for known data['content'][5]\n",
    "check = [data['content'][5]]\n",
    "vector = count_vectorizer.transform(check).toarray()\n",
    "print(data['sentiment'][5])\n",
    "print(clf_NB.predict(vector)) # prediction is accurate"
   ]
  },
  {
   "cell_type": "code",
   "execution_count": 110,
   "metadata": {},
   "outputs": [
    {
     "data": {
      "text/plain": [
       "[7.981553327738102e-12,\n",
       " 4.820539540606276e-10,\n",
       " 3.072976107390477e-08,\n",
       " 6.002514300531997e-09,\n",
       " 2.689358383630433e-05,\n",
       " 0.003608814054262191,\n",
       " 4.452617594014114e-05,\n",
       " 0.0011948114460662337,\n",
       " 0.013977917173701728,\n",
       " 3.931924260529328e-06,\n",
       " 0.04645489821417271,\n",
       " 2.2041008055750404e-05,\n",
       " 0.9346661291973942]"
      ]
     },
     "execution_count": 110,
     "metadata": {},
     "output_type": "execute_result"
    }
   ],
   "source": [
    "# Prediction probability of 13 sentiments\n",
    "predict_proba = clf_NB.predict_proba(vector)\n",
    "predict_proba = [item for sublist in predict_proba for item in sublist]\n",
    "predict_proba"
   ]
  },
  {
   "cell_type": "code",
   "execution_count": 112,
   "metadata": {},
   "outputs": [
    {
     "data": {
      "text/plain": [
       "array(['anger', 'boredom', 'empty', 'enthusiasm', 'fun', 'happiness',\n",
       "       'hate', 'love', 'neutral', 'relief', 'sadness', 'surprise',\n",
       "       'worry'], dtype='<U10')"
      ]
     },
     "execution_count": 112,
     "metadata": {},
     "output_type": "execute_result"
    }
   ],
   "source": [
    "# Classes (sentiments) of the Classifier\n",
    "classes = clf_NB.classes_\n",
    "# classes = [item for sublist in classes for item in sublist]\n",
    "classes"
   ]
  },
  {
   "cell_type": "code",
   "execution_count": 93,
   "metadata": {},
   "outputs": [
    {
     "data": {
      "text/plain": [
       "0.9346661291973942"
      ]
     },
     "execution_count": 93,
     "metadata": {},
     "output_type": "execute_result"
    }
   ],
   "source": [
    "# Maximum Probability of sentiment [worry] and least is for [anger]\n",
    "np.max(clf_NB.predict_proba(vector))"
   ]
  },
  {
   "cell_type": "code",
   "execution_count": 116,
   "metadata": {},
   "outputs": [
    {
     "data": {
      "image/png": "[encoded data removed]",
      "text/plain": [
       "<Figure size 432x288 with 1 Axes>"
      ]
     },
     "metadata": {},
     "output_type": "display_data"
    }
   ],
   "source": [
    "# Plotting classes and probability from the prediciton results \n",
    "plt.pie(predict_proba, labels=classes.tolist(), startangle=45, shadow=True, radius=2)\n",
    "plt.legend()\n",
    "plt.show()"
   ]
  },
  {
   "cell_type": "markdown",
   "metadata": {},
   "source": [
    "### Evaluation"
   ]
  },
  {
   "cell_type": "code",
   "execution_count": 117,
   "metadata": {},
   "outputs": [
    {
     "name": "stdout",
     "output_type": "stream",
     "text": [
      "              precision    recall  f1-score   support\n",
      "\n",
      "       anger       0.00      0.00      0.00        33\n",
      "     boredom       0.00      0.00      0.00        57\n",
      "       empty       0.14      0.00      0.01       242\n",
      "  enthusiasm       0.00      0.00      0.00       249\n",
      "         fun       0.17      0.00      0.00       513\n",
      "   happiness       0.34      0.29      0.32      1568\n",
      "        hate       0.40      0.01      0.02       383\n",
      "        love       0.50      0.31      0.39      1134\n",
      "     neutral       0.34      0.35      0.35      2620\n",
      "      relief       0.00      0.00      0.00       515\n",
      "     sadness       0.29      0.10      0.15      1560\n",
      "    surprise       0.06      0.00      0.00       625\n",
      "       worry       0.27      0.73      0.40      2501\n",
      "\n",
      "    accuracy                           0.31     12000\n",
      "   macro avg       0.19      0.14      0.13     12000\n",
      "weighted avg       0.29      0.31      0.26     12000\n",
      "\n"
     ]
    }
   ],
   "source": [
    "# Use sklearn metrics: Classification report\n",
    "print(classification_report(y_test, y_predict))"
   ]
  },
  {
   "cell_type": "code",
   "execution_count": 118,
   "metadata": {},
   "outputs": [
    {
     "name": "stdout",
     "output_type": "stream",
     "text": [
      "[[   0    0    0    0    0    2    0    1    7    0    3    0   20]\n",
      " [   0    0    0    0    0    2    0    1    9    0    5    0   40]\n",
      " [   0    0    1    0    0   16    0    3   90    0    7    1  124]\n",
      " [   0    0    0    0    0   30    0    6   78    0    6    0  129]\n",
      " [   0    0    0    0    1  104    0   20  126    0   18    0  244]\n",
      " [   0    0    0    0    1  460    0  127  374    1   26    3  576]\n",
      " [   0    0    1    0    0   12    4    2   54    0   41    1  268]\n",
      " [   0    0    0    0    0  200    0  356  181    0   34    0  363]\n",
      " [   0    0    3    1    2  220    4   75  924    4   83    7 1297]\n",
      " [   0    0    0    0    1   68    0   24  120    0   17    0  285]\n",
      " [   0    0    1    0    0   40    0   22  188    0  158    3 1148]\n",
      " [   0    0    1    0    1   84    0   23  137    0   18    1  360]\n",
      " [   0    0    0    0    0   96    2   49  410    0  123    1 1820]]\n"
     ]
    }
   ],
   "source": [
    "# Use sklearn metrics: Confusion matrix\n",
    "print(confusion_matrix(y_test, y_predict))"
   ]
  },
  {
   "cell_type": "code",
   "execution_count": 119,
   "metadata": {},
   "outputs": [
    {
     "data": {
      "text/plain": [
       "<sklearn.metrics._plot.confusion_matrix.ConfusionMatrixDisplay at 0x194815f42b0>"
      ]
     },
     "execution_count": 119,
     "metadata": {},
     "output_type": "execute_result"
    },
    {
     "data": {
      "image/png": "[encoded data removed]",
      "text/plain": [
       "<Figure size 432x288 with 2 Axes>"
      ]
     },
     "metadata": {
      "needs_background": "light"
     },
     "output_type": "display_data"
    }
   ],
   "source": [
    "# Plot confusion matrix\n",
    "plot_confusion_matrix(clf_NB, X_test, y_test)"
   ]
  },
  {
   "cell_type": "markdown",
   "metadata": {},
   "source": [
    "## Decision Tree"
   ]
  },
  {
   "cell_type": "code",
   "execution_count": 122,
   "metadata": {},
   "outputs": [
    {
     "data": {
      "text/plain": [
       "DecisionTreeClassifier(max_depth=400, random_state=42)"
      ]
     },
     "execution_count": 122,
     "metadata": {},
     "output_type": "execute_result"
    }
   ],
   "source": [
    "# Score using CounterVectorizer\n",
    "#classifier: clf_DT\n",
    "clf_DT = tree.DecisionTreeClassifier(random_state=42, max_depth=400)\n",
    "clf_DT.fit(X_train, y_train) # fitting training features and labels"
   ]
  },
  {
   "cell_type": "code",
   "execution_count": 127,
   "metadata": {},
   "outputs": [
    {
     "data": {
      "text/plain": [
       "[57.43214285714286, 93.37857142857143]"
      ]
     },
     "execution_count": 127,
     "metadata": {},
     "output_type": "execute_result"
    }
   ],
   "source": [
    "# Scores[1] appened for DT classifier\n",
    "scores.append(clf_DT.score(X_train, y_train)*100)\n",
    "scores"
   ]
  },
  {
   "cell_type": "code",
   "execution_count": 128,
   "metadata": {},
   "outputs": [
    {
     "data": {
      "text/plain": [
       "array(['neutral', 'neutral', 'neutral', ..., 'worry', 'worry', 'sadness'],\n",
       "      dtype=object)"
      ]
     },
     "execution_count": 128,
     "metadata": {},
     "output_type": "execute_result"
    }
   ],
   "source": [
    "y_predict = clf_DT.predict(X_test)\n",
    "y_predict # all sentimental keyword for the tweets"
   ]
  },
  {
   "cell_type": "code",
   "execution_count": 130,
   "metadata": {},
   "outputs": [
    {
     "name": "stdout",
     "output_type": "stream",
     "text": [
      "sadness\n",
      "['sadness']\n"
     ]
    }
   ],
   "source": [
    "#Check prediction for known data['content'][5]\n",
    "check = [data['content'][2]]\n",
    "vector = count_vectorizer.transform(check).toarray()\n",
    "print(data['sentiment'][2])\n",
    "print(clf_DT.predict(vector)) # prediction is accurate"
   ]
  },
  {
   "cell_type": "code",
   "execution_count": 131,
   "metadata": {},
   "outputs": [
    {
     "data": {
      "text/plain": [
       "[0.0, 0.0, 0.0, 0.0, 0.0, 0.0, 0.0, 0.0, 0.0, 0.0, 1.0, 0.0, 0.0]"
      ]
     },
     "execution_count": 131,
     "metadata": {},
     "output_type": "execute_result"
    }
   ],
   "source": [
    "# Prediction probability of 13 sentiments\n",
    "predict_proba = clf_DT.predict_proba(vector)\n",
    "predict_proba = [item for sublist in predict_proba for item in sublist]\n",
    "predict_proba"
   ]
  },
  {
   "cell_type": "code",
   "execution_count": 132,
   "metadata": {},
   "outputs": [
    {
     "data": {
      "text/plain": [
       "array(['anger', 'boredom', 'empty', 'enthusiasm', 'fun', 'happiness',\n",
       "       'hate', 'love', 'neutral', 'relief', 'sadness', 'surprise',\n",
       "       'worry'], dtype=object)"
      ]
     },
     "execution_count": 132,
     "metadata": {},
     "output_type": "execute_result"
    }
   ],
   "source": [
    "# Classes (sentiments) of the Classifier\n",
    "classes = clf_DT.classes_\n",
    "# classes = [item for sublist in classes for item in sublist]\n",
    "classes"
   ]
  },
  {
   "cell_type": "code",
   "execution_count": 133,
   "metadata": {},
   "outputs": [
    {
     "data": {
      "image/png": "[encoded data removed]",
      "text/plain": [
       "<Figure size 432x288 with 1 Axes>"
      ]
     },
     "metadata": {},
     "output_type": "display_data"
    }
   ],
   "source": [
    "# Plotting classes and probability from the prediciton results \n",
    "plt.pie(predict_proba, labels=classes.tolist(), startangle=45, shadow=True, radius=2)\n",
    "plt.legend()\n",
    "plt.show()"
   ]
  },
  {
   "cell_type": "markdown",
   "metadata": {},
   "source": [
    "### Evaluation"
   ]
  },
  {
   "cell_type": "code",
   "execution_count": 134,
   "metadata": {},
   "outputs": [
    {
     "name": "stdout",
     "output_type": "stream",
     "text": [
      "              precision    recall  f1-score   support\n",
      "\n",
      "       anger       0.00      0.00      0.00        33\n",
      "     boredom       0.00      0.00      0.00        57\n",
      "       empty       0.01      0.00      0.01       242\n",
      "  enthusiasm       0.03      0.01      0.01       249\n",
      "         fun       0.08      0.05      0.07       513\n",
      "   happiness       0.27      0.32      0.29      1568\n",
      "        hate       0.23      0.18      0.20       383\n",
      "        love       0.36      0.31      0.34      1134\n",
      "     neutral       0.33      0.49      0.40      2620\n",
      "      relief       0.12      0.06      0.08       515\n",
      "     sadness       0.26      0.22      0.24      1560\n",
      "    surprise       0.08      0.05      0.06       625\n",
      "       worry       0.30      0.31      0.30      2501\n",
      "\n",
      "    accuracy                           0.28     12000\n",
      "   macro avg       0.16      0.15      0.15     12000\n",
      "weighted avg       0.26      0.28      0.27     12000\n",
      "\n"
     ]
    }
   ],
   "source": [
    "# Use sklearn metrics: Classification report\n",
    "print(classification_report(y_test, y_predict))"
   ]
  },
  {
   "cell_type": "code",
   "execution_count": 135,
   "metadata": {},
   "outputs": [
    {
     "name": "stdout",
     "output_type": "stream",
     "text": [
      "[[   0    0    0    0    2    1    1    0   12    1    7    5    4]\n",
      " [   0    0    1    0    1    6    1    3   22    0    8    1   14]\n",
      " [   0    0    1    1    5   26    5   15  109    7   17    5   51]\n",
      " [   0    0    0    2   12   44    3   14   86    5   20    9   54]\n",
      " [   0    0    1    4   28  126    8   34  151   17   45   11   88]\n",
      " [   1    2    7   15   77  494   11  176  390   60   95   53  187]\n",
      " [   0    0    3    1    6   20   70   11   96    4   58   13  101]\n",
      " [   0    0    5    9   19  251   11  357  229   24   76   37  116]\n",
      " [   1   10   15   17   63  285   41  100 1279   37  203   71  498]\n",
      " [   0    2    9    5   16  100    3   46  169   32   38   11   84]\n",
      " [   1    7   15    5   33  119   53   63  366   24  336   58  480]\n",
      " [   0    3    6    4   19  110   14   51  198   10   45   31  134]\n",
      " [   1    8   18   12   64  237   80  116  730   55  343   74  763]]\n"
     ]
    }
   ],
   "source": [
    "# Use sklearn metrics: Confusion matrix\n",
    "print(confusion_matrix(y_test, y_predict))"
   ]
  },
  {
   "cell_type": "code",
   "execution_count": 136,
   "metadata": {},
   "outputs": [
    {
     "data": {
      "text/plain": [
       "<sklearn.metrics._plot.confusion_matrix.ConfusionMatrixDisplay at 0x1953841ca30>"
      ]
     },
     "execution_count": 136,
     "metadata": {},
     "output_type": "execute_result"
    },
    {
     "data": {
      "image/png": "[encoded data removed]",
      "text/plain": [
       "<Figure size 432x288 with 2 Axes>"
      ]
     },
     "metadata": {
      "needs_background": "light"
     },
     "output_type": "display_data"
    }
   ],
   "source": [
    "# Plot confusion matrix\n",
    "plot_confusion_matrix(clf_NB, X_test, y_test)"
   ]
  },
  {
   "cell_type": "markdown",
   "metadata": {},
   "source": [
    "## Random Forest"
   ]
  },
  {
   "cell_type": "markdown",
   "metadata": {},
   "source": [
    "### Evaluation"
   ]
  },
  {
   "cell_type": "code",
   "execution_count": null,
   "metadata": {},
   "outputs": [],
   "source": []
  },
  {
   "cell_type": "markdown",
   "metadata": {},
   "source": [
    "## Linear Regression Model"
   ]
  },
  {
   "cell_type": "markdown",
   "metadata": {},
   "source": [
    "### Evaluation"
   ]
  },
  {
   "cell_type": "markdown",
   "metadata": {},
   "source": [
    "## Comparision"
   ]
  },
  {
   "cell_type": "markdown",
   "metadata": {},
   "source": []
  }
 ],
 "metadata": {
  "kernelspec": {
   "display_name": "Python 3.10.4 ('env1')",
   "language": "python",
   "name": "python3"
  },
  "language_info": {
   "codemirror_mode": {
    "name": "ipython",
    "version": 3
   },
   "file_extension": ".py",
   "mimetype": "text/x-python",
   "name": "python",
   "nbconvert_exporter": "python",
   "pygments_lexer": "ipython3",
   "version": "3.10.4"
  },
  "orig_nbformat": 4,
  "vscode": {
   "interpreter": {
    "hash": "5024435cbfb8faf8bbbcdcac495405647c340211599983c8ce8e312773b27794"
   }
  }
 },
 "nbformat": 4,
 "nbformat_minor": 2
}
